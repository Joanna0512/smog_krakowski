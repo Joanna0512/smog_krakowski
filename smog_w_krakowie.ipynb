{
  "nbformat": 4,
  "nbformat_minor": 0,
  "metadata": {
    "colab": {
      "provenance": [],
      "authorship_tag": "ABX9TyO5TsT1SkmGQ97ejhhWD1oE",
      "include_colab_link": true
    },
    "kernelspec": {
      "name": "python3",
      "display_name": "Python 3"
    },
    "language_info": {
      "name": "python"
    }
  },
  "cells": [
    {
      "cell_type": "markdown",
      "metadata": {
        "id": "view-in-github",
        "colab_type": "text"
      },
      "source": [
        "<a href=\"https://colab.research.google.com/github/Joanna0512/smog_krakowski/blob/main/smog_w_krakowie.ipynb\" target=\"_parent\"><img src=\"https://colab.research.google.com/assets/colab-badge.svg\" alt=\"Open In Colab\"/></a>"
      ]
    },
    {
      "cell_type": "code",
      "execution_count": 1,
      "metadata": {
        "id": "OXhBI52A6j0X"
      },
      "outputs": [],
      "source": [
        "import numpy as np\n",
        "import pandas as pd\n",
        "import matplotlib.pyplot as plt\n",
        "import glob"
      ]
    },
    {
      "cell_type": "code",
      "source": [
        "!gdown --id \"186S03hFJ67K4eV1BWb2_6lZxAYG7dBM4\""
      ],
      "metadata": {
        "colab": {
          "base_uri": "https://localhost:8080/"
        },
        "id": "5t6KYkpx6w9w",
        "outputId": "2da6948c-d98e-47ca-9e37-644d9b4018f5"
      },
      "execution_count": 3,
      "outputs": [
        {
          "output_type": "stream",
          "name": "stdout",
          "text": [
            "/usr/local/lib/python3.8/dist-packages/gdown/cli.py:127: FutureWarning: Option `--id` was deprecated in version 4.3.1 and will be removed in 5.0. You don't need to pass it anymore to use a file ID.\n",
            "  warnings.warn(\n",
            "Downloading...\n",
            "From: https://drive.google.com/uc?id=186S03hFJ67K4eV1BWb2_6lZxAYG7dBM4\n",
            "To: /content/archive.zip\n",
            "100% 2.39M/2.39M [00:00<00:00, 186MB/s]\n"
          ]
        }
      ]
    },
    {
      "cell_type": "code",
      "source": [
        "!unzip -q \"archive.zip\" -d data/"
      ],
      "metadata": {
        "id": "3on8RRTp6ra6"
      },
      "execution_count": 4,
      "outputs": []
    },
    {
      "cell_type": "code",
      "source": [
        "all_file_names = glob.glob(\"data/*2017.csv\")"
      ],
      "metadata": {
        "id": "yfJk775v7l-J"
      },
      "execution_count": 5,
      "outputs": []
    },
    {
      "cell_type": "code",
      "source": [
        "all_file_names"
      ],
      "metadata": {
        "colab": {
          "base_uri": "https://localhost:8080/"
        },
        "id": "M4QlvSvL7n3P",
        "outputId": "9c3b1cd2-9f00-428e-83c5-c4ea9231c417"
      },
      "execution_count": 6,
      "outputs": [
        {
          "output_type": "execute_result",
          "data": {
            "text/plain": [
              "['data/july-2017.csv',\n",
              " 'data/october-2017.csv',\n",
              " 'data/november-2017.csv',\n",
              " 'data/april-2017.csv',\n",
              " 'data/december-2017.csv',\n",
              " 'data/february-2017.csv',\n",
              " 'data/june-2017.csv',\n",
              " 'data/august-2017.csv',\n",
              " 'data/march-2017.csv',\n",
              " 'data/january-2017.csv',\n",
              " 'data/may-2017.csv',\n",
              " 'data/september-2017.csv']"
            ]
          },
          "metadata": {},
          "execution_count": 6
        }
      ]
    }
  ]
}