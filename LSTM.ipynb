{
  "nbformat": 4,
  "nbformat_minor": 0,
  "metadata": {
    "colab": {
      "provenance": [],
      "authorship_tag": "ABX9TyMSBliDD3s2CkUq150sLyP9",
      "include_colab_link": true
    },
    "kernelspec": {
      "name": "python3",
      "display_name": "Python 3"
    },
    "language_info": {
      "name": "python"
    }
  },
  "cells": [
    {
      "cell_type": "markdown",
      "metadata": {
        "id": "view-in-github",
        "colab_type": "text"
      },
      "source": [
        "<a href=\"https://colab.research.google.com/github/Joanna0512/smog_krakowski/blob/main/LSTM.ipynb\" target=\"_parent\"><img src=\"https://colab.research.google.com/assets/colab-badge.svg\" alt=\"Open In Colab\"/></a>"
      ]
    },
    {
      "cell_type": "code",
      "execution_count": 1,
      "metadata": {
        "id": "j01HtDcrNdhG"
      },
      "outputs": [],
      "source": [
        "import numpy as np\n",
        "import pandas as pd\n",
        "import matplotlib.pyplot as plt\n",
        "import glob"
      ]
    },
    {
      "cell_type": "code",
      "source": [
        "!unzip -q \"/content/archive (2).zip\" -d data/"
      ],
      "metadata": {
        "id": "M3WMdat7Ns2Q"
      },
      "execution_count": 2,
      "outputs": []
    },
    {
      "cell_type": "code",
      "source": [
        "all_file_names = glob.glob(\"data/*2017.csv\")"
      ],
      "metadata": {
        "id": "45Dtw-uUNv2a"
      },
      "execution_count": 3,
      "outputs": []
    },
    {
      "cell_type": "code",
      "source": [
        "all_file_names"
      ],
      "metadata": {
        "colab": {
          "base_uri": "https://localhost:8080/"
        },
        "id": "covRlwnFNv_R",
        "outputId": "3f0f2ddf-f967-44e4-f361-40cfa5091000"
      },
      "execution_count": 4,
      "outputs": [
        {
          "output_type": "execute_result",
          "data": {
            "text/plain": [
              "['data/may-2017.csv',\n",
              " 'data/january-2017.csv',\n",
              " 'data/march-2017.csv',\n",
              " 'data/september-2017.csv',\n",
              " 'data/november-2017.csv',\n",
              " 'data/july-2017.csv',\n",
              " 'data/june-2017.csv',\n",
              " 'data/april-2017.csv',\n",
              " 'data/february-2017.csv',\n",
              " 'data/august-2017.csv',\n",
              " 'data/december-2017.csv',\n",
              " 'data/october-2017.csv']"
            ]
          },
          "metadata": {},
          "execution_count": 4
        }
      ]
    },
    {
      "cell_type": "code",
      "source": [
        "jan = pd.read_csv('/content/data/january-2017.csv')\n",
        "feb = pd.read_csv('/content/data/february-2017.csv')\n",
        "mar = pd.read_csv('/content/data/march-2017.csv')\n",
        "apr = pd.read_csv('/content/data/april-2017.csv')\n",
        "may = pd.read_csv('/content/data/may-2017.csv')\n",
        "jun = pd.read_csv('/content/data/june-2017.csv')\n",
        "jul = pd.read_csv('/content/data/july-2017.csv')\n",
        "aug = pd.read_csv('/content/data/august-2017.csv')\n",
        "sep = pd.read_csv('/content/data/september-2017.csv')\n",
        "octo = pd.read_csv('/content/data/october-2017.csv')\n",
        "nov = pd.read_csv('/content/data/november-2017.csv')\n",
        "dec = pd.read_csv('/content/data/december-2017.csv')\n",
        "sensor_loc = pd.read_csv('/content/data/sensor_locations.csv')"
      ],
      "metadata": {
        "id": "tO3MDmq3NwC1"
      },
      "execution_count": 5,
      "outputs": []
    },
    {
      "cell_type": "code",
      "source": [
        "year = pd.concat([jan, feb, mar, apr, may, jun, jul, aug, sep, octo, nov, dec])"
      ],
      "metadata": {
        "id": "SEhvd95nN7gW"
      },
      "execution_count": 6,
      "outputs": []
    },
    {
      "cell_type": "code",
      "source": [
        "year[\"UTC time\"] = pd.to_datetime(year[\"UTC time\"], format=\"%Y-%m-%dT%H:%M:%S\")\n",
        "year = year.set_index(\"UTC time\")"
      ],
      "metadata": {
        "id": "F9Q85iJuOGW5"
      },
      "execution_count": 7,
      "outputs": []
    },
    {
      "cell_type": "code",
      "source": [
        "columns_pm10 = [ i  for i in year.columns if  i.split(\"_\")[1] == \"pm10\"]\n",
        "year_pm10 = year[columns_pm10]\n",
        "year_pm10[:3]"
      ],
      "metadata": {
        "colab": {
          "base_uri": "https://localhost:8080/",
          "height": 390
        },
        "id": "igXe9qLYOYNO",
        "outputId": "e3ca5b39-8dee-4b72-ab2e-a1aa4fa91516"
      },
      "execution_count": 8,
      "outputs": [
        {
          "output_type": "execute_result",
          "data": {
            "text/plain": [
              "                     3_pm10  140_pm10  142_pm10  147_pm10  169_pm10  170_pm10  \\\n",
              "UTC time                                                                        \n",
              "2017-01-01 00:00:00     NaN       NaN     196.0     346.0     229.0     277.0   \n",
              "2017-01-01 01:00:00     NaN       NaN     180.0     330.0     230.0     247.0   \n",
              "2017-01-01 02:00:00     NaN       NaN     189.0     333.0     201.0     203.0   \n",
              "\n",
              "                     171_pm10  172_pm10  173_pm10  174_pm10  ...  225_pm10  \\\n",
              "UTC time                                                     ...             \n",
              "2017-01-01 00:00:00     256.0     219.0     205.0     212.0  ...     477.0   \n",
              "2017-01-01 01:00:00     228.0     226.0     227.0     238.0  ...     482.0   \n",
              "2017-01-01 02:00:00     240.0     224.0     213.0     264.0  ...     474.0   \n",
              "\n",
              "                     226_pm10  227_pm10  228_pm10  263_pm10  622_pm10  \\\n",
              "UTC time                                                                \n",
              "2017-01-01 00:00:00     346.0     171.0     322.0     235.0       NaN   \n",
              "2017-01-01 01:00:00     308.0     177.0     250.0     203.0       NaN   \n",
              "2017-01-01 02:00:00     277.0     193.0     237.0     162.0       NaN   \n",
              "\n",
              "                     713_pm10  808_pm10  857_pm10  895_pm10  \n",
              "UTC time                                                     \n",
              "2017-01-01 00:00:00       NaN       NaN       NaN       NaN  \n",
              "2017-01-01 01:00:00       NaN       NaN       NaN       NaN  \n",
              "2017-01-01 02:00:00       NaN       NaN       NaN       NaN  \n",
              "\n",
              "[3 rows x 56 columns]"
            ],
            "text/html": [
              "\n",
              "  <div id=\"df-a930c43d-2c06-42e6-a139-ce2b8855e143\">\n",
              "    <div class=\"colab-df-container\">\n",
              "      <div>\n",
              "<style scoped>\n",
              "    .dataframe tbody tr th:only-of-type {\n",
              "        vertical-align: middle;\n",
              "    }\n",
              "\n",
              "    .dataframe tbody tr th {\n",
              "        vertical-align: top;\n",
              "    }\n",
              "\n",
              "    .dataframe thead th {\n",
              "        text-align: right;\n",
              "    }\n",
              "</style>\n",
              "<table border=\"1\" class=\"dataframe\">\n",
              "  <thead>\n",
              "    <tr style=\"text-align: right;\">\n",
              "      <th></th>\n",
              "      <th>3_pm10</th>\n",
              "      <th>140_pm10</th>\n",
              "      <th>142_pm10</th>\n",
              "      <th>147_pm10</th>\n",
              "      <th>169_pm10</th>\n",
              "      <th>170_pm10</th>\n",
              "      <th>171_pm10</th>\n",
              "      <th>172_pm10</th>\n",
              "      <th>173_pm10</th>\n",
              "      <th>174_pm10</th>\n",
              "      <th>...</th>\n",
              "      <th>225_pm10</th>\n",
              "      <th>226_pm10</th>\n",
              "      <th>227_pm10</th>\n",
              "      <th>228_pm10</th>\n",
              "      <th>263_pm10</th>\n",
              "      <th>622_pm10</th>\n",
              "      <th>713_pm10</th>\n",
              "      <th>808_pm10</th>\n",
              "      <th>857_pm10</th>\n",
              "      <th>895_pm10</th>\n",
              "    </tr>\n",
              "    <tr>\n",
              "      <th>UTC time</th>\n",
              "      <th></th>\n",
              "      <th></th>\n",
              "      <th></th>\n",
              "      <th></th>\n",
              "      <th></th>\n",
              "      <th></th>\n",
              "      <th></th>\n",
              "      <th></th>\n",
              "      <th></th>\n",
              "      <th></th>\n",
              "      <th></th>\n",
              "      <th></th>\n",
              "      <th></th>\n",
              "      <th></th>\n",
              "      <th></th>\n",
              "      <th></th>\n",
              "      <th></th>\n",
              "      <th></th>\n",
              "      <th></th>\n",
              "      <th></th>\n",
              "      <th></th>\n",
              "    </tr>\n",
              "  </thead>\n",
              "  <tbody>\n",
              "    <tr>\n",
              "      <th>2017-01-01 00:00:00</th>\n",
              "      <td>NaN</td>\n",
              "      <td>NaN</td>\n",
              "      <td>196.0</td>\n",
              "      <td>346.0</td>\n",
              "      <td>229.0</td>\n",
              "      <td>277.0</td>\n",
              "      <td>256.0</td>\n",
              "      <td>219.0</td>\n",
              "      <td>205.0</td>\n",
              "      <td>212.0</td>\n",
              "      <td>...</td>\n",
              "      <td>477.0</td>\n",
              "      <td>346.0</td>\n",
              "      <td>171.0</td>\n",
              "      <td>322.0</td>\n",
              "      <td>235.0</td>\n",
              "      <td>NaN</td>\n",
              "      <td>NaN</td>\n",
              "      <td>NaN</td>\n",
              "      <td>NaN</td>\n",
              "      <td>NaN</td>\n",
              "    </tr>\n",
              "    <tr>\n",
              "      <th>2017-01-01 01:00:00</th>\n",
              "      <td>NaN</td>\n",
              "      <td>NaN</td>\n",
              "      <td>180.0</td>\n",
              "      <td>330.0</td>\n",
              "      <td>230.0</td>\n",
              "      <td>247.0</td>\n",
              "      <td>228.0</td>\n",
              "      <td>226.0</td>\n",
              "      <td>227.0</td>\n",
              "      <td>238.0</td>\n",
              "      <td>...</td>\n",
              "      <td>482.0</td>\n",
              "      <td>308.0</td>\n",
              "      <td>177.0</td>\n",
              "      <td>250.0</td>\n",
              "      <td>203.0</td>\n",
              "      <td>NaN</td>\n",
              "      <td>NaN</td>\n",
              "      <td>NaN</td>\n",
              "      <td>NaN</td>\n",
              "      <td>NaN</td>\n",
              "    </tr>\n",
              "    <tr>\n",
              "      <th>2017-01-01 02:00:00</th>\n",
              "      <td>NaN</td>\n",
              "      <td>NaN</td>\n",
              "      <td>189.0</td>\n",
              "      <td>333.0</td>\n",
              "      <td>201.0</td>\n",
              "      <td>203.0</td>\n",
              "      <td>240.0</td>\n",
              "      <td>224.0</td>\n",
              "      <td>213.0</td>\n",
              "      <td>264.0</td>\n",
              "      <td>...</td>\n",
              "      <td>474.0</td>\n",
              "      <td>277.0</td>\n",
              "      <td>193.0</td>\n",
              "      <td>237.0</td>\n",
              "      <td>162.0</td>\n",
              "      <td>NaN</td>\n",
              "      <td>NaN</td>\n",
              "      <td>NaN</td>\n",
              "      <td>NaN</td>\n",
              "      <td>NaN</td>\n",
              "    </tr>\n",
              "  </tbody>\n",
              "</table>\n",
              "<p>3 rows × 56 columns</p>\n",
              "</div>\n",
              "      <button class=\"colab-df-convert\" onclick=\"convertToInteractive('df-a930c43d-2c06-42e6-a139-ce2b8855e143')\"\n",
              "              title=\"Convert this dataframe to an interactive table.\"\n",
              "              style=\"display:none;\">\n",
              "        \n",
              "  <svg xmlns=\"http://www.w3.org/2000/svg\" height=\"24px\"viewBox=\"0 0 24 24\"\n",
              "       width=\"24px\">\n",
              "    <path d=\"M0 0h24v24H0V0z\" fill=\"none\"/>\n",
              "    <path d=\"M18.56 5.44l.94 2.06.94-2.06 2.06-.94-2.06-.94-.94-2.06-.94 2.06-2.06.94zm-11 1L8.5 8.5l.94-2.06 2.06-.94-2.06-.94L8.5 2.5l-.94 2.06-2.06.94zm10 10l.94 2.06.94-2.06 2.06-.94-2.06-.94-.94-2.06-.94 2.06-2.06.94z\"/><path d=\"M17.41 7.96l-1.37-1.37c-.4-.4-.92-.59-1.43-.59-.52 0-1.04.2-1.43.59L10.3 9.45l-7.72 7.72c-.78.78-.78 2.05 0 2.83L4 21.41c.39.39.9.59 1.41.59.51 0 1.02-.2 1.41-.59l7.78-7.78 2.81-2.81c.8-.78.8-2.07 0-2.86zM5.41 20L4 18.59l7.72-7.72 1.47 1.35L5.41 20z\"/>\n",
              "  </svg>\n",
              "      </button>\n",
              "      \n",
              "  <style>\n",
              "    .colab-df-container {\n",
              "      display:flex;\n",
              "      flex-wrap:wrap;\n",
              "      gap: 12px;\n",
              "    }\n",
              "\n",
              "    .colab-df-convert {\n",
              "      background-color: #E8F0FE;\n",
              "      border: none;\n",
              "      border-radius: 50%;\n",
              "      cursor: pointer;\n",
              "      display: none;\n",
              "      fill: #1967D2;\n",
              "      height: 32px;\n",
              "      padding: 0 0 0 0;\n",
              "      width: 32px;\n",
              "    }\n",
              "\n",
              "    .colab-df-convert:hover {\n",
              "      background-color: #E2EBFA;\n",
              "      box-shadow: 0px 1px 2px rgba(60, 64, 67, 0.3), 0px 1px 3px 1px rgba(60, 64, 67, 0.15);\n",
              "      fill: #174EA6;\n",
              "    }\n",
              "\n",
              "    [theme=dark] .colab-df-convert {\n",
              "      background-color: #3B4455;\n",
              "      fill: #D2E3FC;\n",
              "    }\n",
              "\n",
              "    [theme=dark] .colab-df-convert:hover {\n",
              "      background-color: #434B5C;\n",
              "      box-shadow: 0px 1px 3px 1px rgba(0, 0, 0, 0.15);\n",
              "      filter: drop-shadow(0px 1px 2px rgba(0, 0, 0, 0.3));\n",
              "      fill: #FFFFFF;\n",
              "    }\n",
              "  </style>\n",
              "\n",
              "      <script>\n",
              "        const buttonEl =\n",
              "          document.querySelector('#df-a930c43d-2c06-42e6-a139-ce2b8855e143 button.colab-df-convert');\n",
              "        buttonEl.style.display =\n",
              "          google.colab.kernel.accessAllowed ? 'block' : 'none';\n",
              "\n",
              "        async function convertToInteractive(key) {\n",
              "          const element = document.querySelector('#df-a930c43d-2c06-42e6-a139-ce2b8855e143');\n",
              "          const dataTable =\n",
              "            await google.colab.kernel.invokeFunction('convertToInteractive',\n",
              "                                                     [key], {});\n",
              "          if (!dataTable) return;\n",
              "\n",
              "          const docLinkHtml = 'Like what you see? Visit the ' +\n",
              "            '<a target=\"_blank\" href=https://colab.research.google.com/notebooks/data_table.ipynb>data table notebook</a>'\n",
              "            + ' to learn more about interactive tables.';\n",
              "          element.innerHTML = '';\n",
              "          dataTable['output_type'] = 'display_data';\n",
              "          await google.colab.output.renderOutput(dataTable, element);\n",
              "          const docLink = document.createElement('div');\n",
              "          docLink.innerHTML = docLinkHtml;\n",
              "          element.appendChild(docLink);\n",
              "        }\n",
              "      </script>\n",
              "    </div>\n",
              "  </div>\n",
              "  "
            ]
          },
          "metadata": {},
          "execution_count": 8
        }
      ]
    },
    {
      "cell_type": "markdown",
      "source": [
        "Sprawdzam, któy sesnor ma najmniejszą ilością nulli"
      ],
      "metadata": {
        "id": "v4tbXSp3Omy0"
      }
    },
    {
      "cell_type": "code",
      "source": [
        "year_pm10.isnull().sum().sort_values(ascending=True).index[0]"
      ],
      "metadata": {
        "colab": {
          "base_uri": "https://localhost:8080/",
          "height": 35
        },
        "id": "gXbEp7Y3OhF8",
        "outputId": "6de89c54-25ce-4a50-aceb-b15754abfb6a"
      },
      "execution_count": 9,
      "outputs": [
        {
          "output_type": "execute_result",
          "data": {
            "text/plain": [
              "'212_pm10'"
            ],
            "application/vnd.google.colaboratory.intrinsic+json": {
              "type": "string"
            }
          },
          "metadata": {},
          "execution_count": 9
        }
      ]
    },
    {
      "cell_type": "code",
      "source": [
        "year_pm10_212 = year_pm10[\"212_pm10\"]"
      ],
      "metadata": {
        "id": "tein1ionO9IC"
      },
      "execution_count": 10,
      "outputs": []
    },
    {
      "cell_type": "code",
      "source": [
        "\"ilość brakujących obserwacji\", year_pm10_212.isnull().sum()"
      ],
      "metadata": {
        "colab": {
          "base_uri": "https://localhost:8080/"
        },
        "id": "hqAyi1s1PU_7",
        "outputId": "08bf79f9-939c-41f4-bb2e-4baa14918d69"
      },
      "execution_count": 11,
      "outputs": [
        {
          "output_type": "execute_result",
          "data": {
            "text/plain": [
              "('ilość brakujących obserwacji', 8)"
            ]
          },
          "metadata": {},
          "execution_count": 11
        }
      ]
    },
    {
      "cell_type": "code",
      "source": [
        "year_pm10_212.plot(figsize=(25,5), legend=True, subplots=True)\n",
        "plt.show()\n",
        "\n",
        "     "
      ],
      "metadata": {
        "colab": {
          "base_uri": "https://localhost:8080/",
          "height": 301
        },
        "id": "0srngH2MPWzy",
        "outputId": "e3305afc-c8a7-4c47-8e24-6d5fbb43cd91"
      },
      "execution_count": 12,
      "outputs": [
        {
          "output_type": "display_data",
          "data": {
            "text/plain": [
              "<Figure size 1800x360 with 1 Axes>"
            ],
            "image/png": "[encoded data removed]"
          },
          "metadata": {
            "needs_background": "light"
          }
        }
      ]
    },
    {
      "cell_type": "code",
      "source": [],
      "metadata": {
        "id": "YEekr3AAP_U4"
      },
      "execution_count": null,
      "outputs": []
    },
    {
      "cell_type": "markdown",
      "source": [
        "Uzupełnianie brakujących danych poprzez interpolacje"
      ],
      "metadata": {
        "id": "9co2wmzyQYa4"
      }
    },
    {
      "cell_type": "code",
      "source": [
        "year_pm10_212.interpolate(method='linear', axis=0, inplace=True)"
      ],
      "metadata": {
        "id": "1gMbTWZ6QGcr"
      },
      "execution_count": 15,
      "outputs": []
    },
    {
      "cell_type": "code",
      "source": [
        "\"ilość nulli po interpolacji\",year_pm10_212.isnull().sum().sum()"
      ],
      "metadata": {
        "colab": {
          "base_uri": "https://localhost:8080/"
        },
        "id": "f6tBLnB3QThx",
        "outputId": "15628dd7-5971-440e-9e6c-fe1ae0317621"
      },
      "execution_count": 14,
      "outputs": [
        {
          "output_type": "execute_result",
          "data": {
            "text/plain": [
              "('ilość nulli po interpolacji', 0)"
            ]
          },
          "metadata": {},
          "execution_count": 14
        }
      ]
    },
    {
      "cell_type": "markdown",
      "source": [
        "LSTM Models"
      ],
      "metadata": {
        "id": "QPwobW3kQoVM"
      }
    },
    {
      "cell_type": "markdown",
      "source": [
        "https://machinelearningmastery.com/how-to-develop-lstm-models-for-time-series-forecasting/"
      ],
      "metadata": {
        "id": "HeowZTvgQitF"
      }
    },
    {
      "cell_type": "code",
      "source": [
        "\"Długość indexu ze zbioru\", len(year_pm10_212.index)"
      ],
      "metadata": {
        "colab": {
          "base_uri": "https://localhost:8080/"
        },
        "id": "u-9qq8gPQXEQ",
        "outputId": "08c577eb-5809-4df2-c84f-367ba8a6aa4f"
      },
      "execution_count": 16,
      "outputs": [
        {
          "output_type": "execute_result",
          "data": {
            "text/plain": [
              "('Długość indexu ze zbioru', 8593)"
            ]
          },
          "metadata": {},
          "execution_count": 16
        }
      ]
    },
    {
      "cell_type": "code",
      "source": [
        "\"pożądana długość indexu \", len(pd.date_range(start=year_pm10_212.index.min(), end=year_pm10_212.index.max(), freq='1H'))"
      ],
      "metadata": {
        "colab": {
          "base_uri": "https://localhost:8080/"
        },
        "id": "8UtHjSKyQ617",
        "outputId": "4e1ce798-80e7-4b24-e4d1-19a8ece7300f"
      },
      "execution_count": 18,
      "outputs": [
        {
          "output_type": "execute_result",
          "data": {
            "text/plain": [
              "('pożądana długość indexu ', 8593)"
            ]
          },
          "metadata": {},
          "execution_count": 18
        }
      ]
    },
    {
      "cell_type": "code",
      "source": [
        "from numpy import array\n",
        "from keras.models import Sequential\n",
        "from keras.layers import LSTM\n",
        "from keras.layers import Dense\n",
        "from tensorflow.keras.callbacks import EarlyStopping"
      ],
      "metadata": {
        "id": "NqRDK0tTQ-ir"
      },
      "execution_count": 33,
      "outputs": []
    },
    {
      "cell_type": "code",
      "source": [
        "# podział sekwencji na próbki\n",
        "def split_sequence(sequence, n_steps):\n",
        "\tX, y = list(), list()\n",
        "\tfor i in range(len(sequence)):\n",
        "\t\t# znajdź koniec\n",
        "\t\tend_ix = i + n_steps\n",
        "\t\tif end_ix > len(sequence)-1:\n",
        "\t\t\tbreak\n",
        "\t\tseq_x, seq_y = sequence[i:end_ix], sequence[end_ix]\n",
        "\t\tX.append(seq_x)\n",
        "\t\ty.append(seq_y)\n",
        "\treturn array(X), array(y)"
      ],
      "metadata": {
        "id": "jIVloXUSSJyq"
      },
      "execution_count": 26,
      "outputs": []
    },
    {
      "cell_type": "code",
      "source": [
        "# sekwencja wejściowa\n",
        "raw_seq = year_pm10_212.values"
      ],
      "metadata": {
        "id": "aUrVAqY9SLOh"
      },
      "execution_count": 27,
      "outputs": []
    },
    {
      "cell_type": "code",
      "source": [
        "# n_steps = 168  # ostatni tydzień 7 x 24h \n",
        "n_steps = 3"
      ],
      "metadata": {
        "id": "5EAhuBdsSOCh"
      },
      "execution_count": 28,
      "outputs": []
    },
    {
      "cell_type": "code",
      "source": [
        "# podziel na próbki\n",
        "X, y = split_sequence(raw_seq, n_steps)\n",
        "X.shape, y.shape"
      ],
      "metadata": {
        "colab": {
          "base_uri": "https://localhost:8080/"
        },
        "id": "v_DFT4ywSRu6",
        "outputId": "7ac87e05-4697-4ba9-ba14-4066dcfb5795"
      },
      "execution_count": 29,
      "outputs": [
        {
          "output_type": "execute_result",
          "data": {
            "text/plain": [
              "((8590, 3), (8590,))"
            ]
          },
          "metadata": {},
          "execution_count": 29
        }
      ]
    },
    {
      "cell_type": "code",
      "source": [
        "# reshape\n",
        "n_features = 1\n",
        "X = X.reshape((X.shape[0], X.shape[1], n_features))"
      ],
      "metadata": {
        "id": "5x49BF-ySUpx"
      },
      "execution_count": 30,
      "outputs": []
    },
    {
      "cell_type": "code",
      "source": [
        "model = Sequential()\n",
        "model.add(LSTM(50, activation='relu', input_shape=(n_steps, n_features)))\n",
        "model.add(Dense(1))\n",
        "model.compile(optimizer='adam', loss='mse', metrics=[\"accuracy\"])\n",
        "\n",
        "EarlyStop = EarlyStopping(monitor='val_loss', \n",
        "                          patience=5,\n",
        "                          verbose=1)\n",
        "history = model.fit(X, \n",
        "                    y, \n",
        "                    epochs=200, \n",
        "                    batch_size=64, \n",
        "                    validation_split=0.2,)\n",
        "scores = model.evaluate(X, y)\n",
        "print(f\"Accuracy {scores[1] * 100}\")"
      ],
      "metadata": {
        "colab": {
          "base_uri": "https://localhost:8080/"
        },
        "id": "c5YLpEJ0SXKl",
        "outputId": "41f32bde-f968-4922-a43d-cef473cedd89"
      },
      "execution_count": 34,
      "outputs": [
        {
          "output_type": "stream",
          "name": "stdout",
          "text": [
            "Epoch 1/200\n",
            "108/108 [==============================] - 37s 6ms/step - loss: 888.2898 - accuracy: 0.0045 - val_loss: 139.3775 - val_accuracy: 0.0023\n",
            "Epoch 2/200\n",
            "108/108 [==============================] - 0s 4ms/step - loss: 120.0592 - accuracy: 0.0068 - val_loss: 93.7193 - val_accuracy: 0.0023\n",
            "Epoch 3/200\n",
            "108/108 [==============================] - 0s 4ms/step - loss: 104.3578 - accuracy: 0.0077 - val_loss: 84.9630 - val_accuracy: 0.0029\n",
            "Epoch 4/200\n",
            "108/108 [==============================] - 0s 4ms/step - loss: 103.1868 - accuracy: 0.0080 - val_loss: 83.8610 - val_accuracy: 0.0035\n",
            "Epoch 5/200\n",
            "108/108 [==============================] - 0s 4ms/step - loss: 101.0072 - accuracy: 0.0080 - val_loss: 82.2511 - val_accuracy: 0.0035\n",
            "Epoch 6/200\n",
            "108/108 [==============================] - 0s 4ms/step - loss: 101.5096 - accuracy: 0.0080 - val_loss: 75.8358 - val_accuracy: 0.0035\n",
            "Epoch 7/200\n",
            "108/108 [==============================] - 0s 4ms/step - loss: 96.5602 - accuracy: 0.0080 - val_loss: 74.8956 - val_accuracy: 0.0035\n",
            "Epoch 8/200\n",
            "108/108 [==============================] - 0s 4ms/step - loss: 98.7838 - accuracy: 0.0080 - val_loss: 77.8861 - val_accuracy: 0.0035\n",
            "Epoch 9/200\n",
            "108/108 [==============================] - 0s 4ms/step - loss: 99.6467 - accuracy: 0.0080 - val_loss: 80.6913 - val_accuracy: 0.0035\n",
            "Epoch 10/200\n",
            "108/108 [==============================] - 0s 4ms/step - loss: 97.0657 - accuracy: 0.0080 - val_loss: 75.2852 - val_accuracy: 0.0035\n",
            "Epoch 11/200\n",
            "108/108 [==============================] - 0s 4ms/step - loss: 97.3716 - accuracy: 0.0080 - val_loss: 76.6269 - val_accuracy: 0.0035\n",
            "Epoch 12/200\n",
            "108/108 [==============================] - 0s 4ms/step - loss: 97.4459 - accuracy: 0.0081 - val_loss: 76.3061 - val_accuracy: 0.0035\n",
            "Epoch 13/200\n",
            "108/108 [==============================] - 0s 4ms/step - loss: 95.2510 - accuracy: 0.0083 - val_loss: 77.6451 - val_accuracy: 0.0035\n",
            "Epoch 14/200\n",
            "108/108 [==============================] - 0s 4ms/step - loss: 108.8861 - accuracy: 0.0083 - val_loss: 80.3998 - val_accuracy: 0.0035\n",
            "Epoch 15/200\n",
            "108/108 [==============================] - 1s 5ms/step - loss: 97.1607 - accuracy: 0.0081 - val_loss: 80.5786 - val_accuracy: 0.0035\n",
            "Epoch 16/200\n",
            "108/108 [==============================] - 1s 6ms/step - loss: 97.1670 - accuracy: 0.0081 - val_loss: 80.5378 - val_accuracy: 0.0041\n",
            "Epoch 17/200\n",
            "108/108 [==============================] - 1s 7ms/step - loss: 93.3748 - accuracy: 0.0080 - val_loss: 76.5487 - val_accuracy: 0.0035\n",
            "Epoch 18/200\n",
            "108/108 [==============================] - 1s 6ms/step - loss: 97.8272 - accuracy: 0.0083 - val_loss: 83.9509 - val_accuracy: 0.0041\n",
            "Epoch 19/200\n",
            "108/108 [==============================] - 1s 5ms/step - loss: 96.0391 - accuracy: 0.0081 - val_loss: 76.1373 - val_accuracy: 0.0041\n",
            "Epoch 20/200\n",
            "108/108 [==============================] - 0s 4ms/step - loss: 100.4313 - accuracy: 0.0083 - val_loss: 89.7554 - val_accuracy: 0.0035\n",
            "Epoch 21/200\n",
            "108/108 [==============================] - 0s 4ms/step - loss: 93.5017 - accuracy: 0.0081 - val_loss: 79.5497 - val_accuracy: 0.0041\n",
            "Epoch 22/200\n",
            "108/108 [==============================] - 0s 4ms/step - loss: 93.7578 - accuracy: 0.0083 - val_loss: 89.5418 - val_accuracy: 0.0035\n",
            "Epoch 23/200\n",
            "108/108 [==============================] - 0s 4ms/step - loss: 93.9370 - accuracy: 0.0083 - val_loss: 78.8619 - val_accuracy: 0.0041\n",
            "Epoch 24/200\n",
            "108/108 [==============================] - 0s 4ms/step - loss: 95.1245 - accuracy: 0.0080 - val_loss: 76.8839 - val_accuracy: 0.0035\n",
            "Epoch 25/200\n",
            "108/108 [==============================] - 0s 4ms/step - loss: 95.6527 - accuracy: 0.0084 - val_loss: 77.3142 - val_accuracy: 0.0035\n",
            "Epoch 26/200\n",
            "108/108 [==============================] - 0s 4ms/step - loss: 93.7305 - accuracy: 0.0081 - val_loss: 77.4557 - val_accuracy: 0.0035\n",
            "Epoch 27/200\n",
            "108/108 [==============================] - 0s 4ms/step - loss: 94.3764 - accuracy: 0.0083 - val_loss: 83.4892 - val_accuracy: 0.0035\n",
            "Epoch 28/200\n",
            "108/108 [==============================] - 0s 4ms/step - loss: 94.3168 - accuracy: 0.0080 - val_loss: 76.4311 - val_accuracy: 0.0041\n",
            "Epoch 29/200\n",
            "108/108 [==============================] - 0s 4ms/step - loss: 93.5305 - accuracy: 0.0083 - val_loss: 77.9416 - val_accuracy: 0.0041\n",
            "Epoch 30/200\n",
            "108/108 [==============================] - 0s 4ms/step - loss: 94.7967 - accuracy: 0.0083 - val_loss: 81.1091 - val_accuracy: 0.0041\n",
            "Epoch 31/200\n",
            "108/108 [==============================] - 0s 4ms/step - loss: 91.7213 - accuracy: 0.0084 - val_loss: 77.4260 - val_accuracy: 0.0041\n",
            "Epoch 32/200\n",
            "108/108 [==============================] - 0s 4ms/step - loss: 94.1165 - accuracy: 0.0080 - val_loss: 79.1775 - val_accuracy: 0.0035\n",
            "Epoch 33/200\n",
            "108/108 [==============================] - 0s 4ms/step - loss: 93.9020 - accuracy: 0.0080 - val_loss: 77.9761 - val_accuracy: 0.0041\n",
            "Epoch 34/200\n",
            "108/108 [==============================] - 0s 4ms/step - loss: 94.9698 - accuracy: 0.0081 - val_loss: 77.5567 - val_accuracy: 0.0041\n",
            "Epoch 35/200\n",
            "108/108 [==============================] - 0s 4ms/step - loss: 94.6572 - accuracy: 0.0081 - val_loss: 75.4117 - val_accuracy: 0.0041\n",
            "Epoch 36/200\n",
            "108/108 [==============================] - 0s 4ms/step - loss: 90.1409 - accuracy: 0.0083 - val_loss: 77.5512 - val_accuracy: 0.0041\n",
            "Epoch 37/200\n",
            "108/108 [==============================] - 0s 4ms/step - loss: 93.1661 - accuracy: 0.0083 - val_loss: 75.5471 - val_accuracy: 0.0041\n",
            "Epoch 38/200\n",
            "108/108 [==============================] - 0s 4ms/step - loss: 94.9474 - accuracy: 0.0083 - val_loss: 90.2972 - val_accuracy: 0.0041\n",
            "Epoch 39/200\n",
            "108/108 [==============================] - 0s 5ms/step - loss: 95.3255 - accuracy: 0.0083 - val_loss: 74.6713 - val_accuracy: 0.0041\n",
            "Epoch 40/200\n",
            "108/108 [==============================] - 0s 4ms/step - loss: 98.3788 - accuracy: 0.0086 - val_loss: 78.4035 - val_accuracy: 0.0041\n",
            "Epoch 41/200\n",
            "108/108 [==============================] - 1s 6ms/step - loss: 94.1514 - accuracy: 0.0080 - val_loss: 77.0839 - val_accuracy: 0.0041\n",
            "Epoch 42/200\n",
            "108/108 [==============================] - 1s 6ms/step - loss: 91.4824 - accuracy: 0.0084 - val_loss: 85.7953 - val_accuracy: 0.0041\n",
            "Epoch 43/200\n",
            "108/108 [==============================] - 1s 7ms/step - loss: 93.4264 - accuracy: 0.0083 - val_loss: 81.2935 - val_accuracy: 0.0041\n",
            "Epoch 44/200\n",
            "108/108 [==============================] - 1s 7ms/step - loss: 93.9397 - accuracy: 0.0081 - val_loss: 100.0148 - val_accuracy: 0.0035\n",
            "Epoch 45/200\n",
            "108/108 [==============================] - 0s 4ms/step - loss: 94.1928 - accuracy: 0.0083 - val_loss: 75.8418 - val_accuracy: 0.0041\n",
            "Epoch 46/200\n",
            "108/108 [==============================] - 0s 4ms/step - loss: 91.9164 - accuracy: 0.0083 - val_loss: 75.2857 - val_accuracy: 0.0041\n",
            "Epoch 47/200\n",
            "108/108 [==============================] - 0s 4ms/step - loss: 91.8851 - accuracy: 0.0083 - val_loss: 79.3894 - val_accuracy: 0.0041\n",
            "Epoch 48/200\n",
            "108/108 [==============================] - 0s 4ms/step - loss: 92.3440 - accuracy: 0.0083 - val_loss: 77.3981 - val_accuracy: 0.0041\n",
            "Epoch 49/200\n",
            "108/108 [==============================] - 0s 4ms/step - loss: 94.4544 - accuracy: 0.0083 - val_loss: 75.5164 - val_accuracy: 0.0041\n",
            "Epoch 50/200\n",
            "108/108 [==============================] - 0s 4ms/step - loss: 90.8647 - accuracy: 0.0083 - val_loss: 75.5417 - val_accuracy: 0.0041\n",
            "Epoch 51/200\n",
            "108/108 [==============================] - 0s 4ms/step - loss: 92.9536 - accuracy: 0.0083 - val_loss: 76.6635 - val_accuracy: 0.0041\n",
            "Epoch 52/200\n",
            "108/108 [==============================] - 0s 4ms/step - loss: 93.1849 - accuracy: 0.0084 - val_loss: 83.2833 - val_accuracy: 0.0041\n",
            "Epoch 53/200\n",
            "108/108 [==============================] - 0s 4ms/step - loss: 91.3012 - accuracy: 0.0083 - val_loss: 75.7887 - val_accuracy: 0.0035\n",
            "Epoch 54/200\n",
            "108/108 [==============================] - 0s 4ms/step - loss: 94.7570 - accuracy: 0.0086 - val_loss: 77.5427 - val_accuracy: 0.0041\n",
            "Epoch 55/200\n",
            "108/108 [==============================] - 0s 4ms/step - loss: 92.5335 - accuracy: 0.0084 - val_loss: 77.9221 - val_accuracy: 0.0041\n",
            "Epoch 56/200\n",
            "108/108 [==============================] - 0s 4ms/step - loss: 93.8290 - accuracy: 0.0080 - val_loss: 76.2280 - val_accuracy: 0.0041\n",
            "Epoch 57/200\n",
            "108/108 [==============================] - 0s 4ms/step - loss: 93.2946 - accuracy: 0.0083 - val_loss: 75.8127 - val_accuracy: 0.0041\n",
            "Epoch 58/200\n",
            "108/108 [==============================] - 0s 4ms/step - loss: 93.2494 - accuracy: 0.0083 - val_loss: 76.5633 - val_accuracy: 0.0041\n",
            "Epoch 59/200\n",
            "108/108 [==============================] - 0s 4ms/step - loss: 90.4540 - accuracy: 0.0081 - val_loss: 75.6198 - val_accuracy: 0.0041\n",
            "Epoch 60/200\n",
            "108/108 [==============================] - 0s 4ms/step - loss: 90.1301 - accuracy: 0.0083 - val_loss: 76.6975 - val_accuracy: 0.0041\n",
            "Epoch 61/200\n",
            "108/108 [==============================] - 0s 4ms/step - loss: 92.0983 - accuracy: 0.0079 - val_loss: 87.9145 - val_accuracy: 0.0041\n",
            "Epoch 62/200\n",
            "108/108 [==============================] - 0s 4ms/step - loss: 92.9431 - accuracy: 0.0079 - val_loss: 81.1099 - val_accuracy: 0.0041\n",
            "Epoch 63/200\n",
            "108/108 [==============================] - 0s 4ms/step - loss: 91.4414 - accuracy: 0.0083 - val_loss: 86.9440 - val_accuracy: 0.0041\n",
            "Epoch 64/200\n",
            "108/108 [==============================] - 0s 4ms/step - loss: 92.2451 - accuracy: 0.0083 - val_loss: 75.9304 - val_accuracy: 0.0035\n",
            "Epoch 65/200\n",
            "108/108 [==============================] - 0s 4ms/step - loss: 92.3237 - accuracy: 0.0081 - val_loss: 74.3867 - val_accuracy: 0.0041\n",
            "Epoch 66/200\n",
            "108/108 [==============================] - 1s 5ms/step - loss: 92.9166 - accuracy: 0.0086 - val_loss: 102.0252 - val_accuracy: 0.0035\n",
            "Epoch 67/200\n",
            "108/108 [==============================] - 1s 7ms/step - loss: 93.2999 - accuracy: 0.0081 - val_loss: 75.2923 - val_accuracy: 0.0041\n",
            "Epoch 68/200\n",
            "108/108 [==============================] - 1s 6ms/step - loss: 91.2568 - accuracy: 0.0080 - val_loss: 76.3233 - val_accuracy: 0.0041\n",
            "Epoch 69/200\n",
            "108/108 [==============================] - 1s 7ms/step - loss: 94.0762 - accuracy: 0.0079 - val_loss: 78.1060 - val_accuracy: 0.0035\n",
            "Epoch 70/200\n",
            "108/108 [==============================] - 1s 5ms/step - loss: 93.8731 - accuracy: 0.0081 - val_loss: 76.2728 - val_accuracy: 0.0035\n",
            "Epoch 71/200\n",
            "108/108 [==============================] - 0s 4ms/step - loss: 90.8334 - accuracy: 0.0081 - val_loss: 75.6264 - val_accuracy: 0.0035\n",
            "Epoch 72/200\n",
            "108/108 [==============================] - 0s 4ms/step - loss: 89.5107 - accuracy: 0.0083 - val_loss: 81.7587 - val_accuracy: 0.0035\n",
            "Epoch 73/200\n",
            "108/108 [==============================] - 0s 4ms/step - loss: 92.9325 - accuracy: 0.0080 - val_loss: 84.9707 - val_accuracy: 0.0035\n",
            "Epoch 74/200\n",
            "108/108 [==============================] - 0s 4ms/step - loss: 89.5863 - accuracy: 0.0083 - val_loss: 74.8757 - val_accuracy: 0.0041\n",
            "Epoch 75/200\n",
            "108/108 [==============================] - 0s 4ms/step - loss: 91.2063 - accuracy: 0.0081 - val_loss: 79.1777 - val_accuracy: 0.0035\n",
            "Epoch 76/200\n",
            "108/108 [==============================] - 0s 4ms/step - loss: 91.2424 - accuracy: 0.0081 - val_loss: 76.8322 - val_accuracy: 0.0041\n",
            "Epoch 77/200\n",
            "108/108 [==============================] - 0s 4ms/step - loss: 90.7998 - accuracy: 0.0081 - val_loss: 77.4687 - val_accuracy: 0.0041\n",
            "Epoch 78/200\n",
            "108/108 [==============================] - 0s 4ms/step - loss: 90.1415 - accuracy: 0.0081 - val_loss: 77.8435 - val_accuracy: 0.0035\n",
            "Epoch 79/200\n",
            "108/108 [==============================] - 0s 4ms/step - loss: 91.4230 - accuracy: 0.0081 - val_loss: 75.2088 - val_accuracy: 0.0041\n",
            "Epoch 80/200\n",
            "108/108 [==============================] - 0s 4ms/step - loss: 91.6309 - accuracy: 0.0081 - val_loss: 77.0026 - val_accuracy: 0.0041\n",
            "Epoch 81/200\n",
            "108/108 [==============================] - 0s 4ms/step - loss: 89.9286 - accuracy: 0.0084 - val_loss: 79.6166 - val_accuracy: 0.0035\n",
            "Epoch 82/200\n",
            "108/108 [==============================] - 0s 4ms/step - loss: 89.1474 - accuracy: 0.0081 - val_loss: 74.7739 - val_accuracy: 0.0035\n",
            "Epoch 83/200\n",
            "108/108 [==============================] - 0s 4ms/step - loss: 89.9189 - accuracy: 0.0083 - val_loss: 75.5856 - val_accuracy: 0.0035\n",
            "Epoch 84/200\n",
            "108/108 [==============================] - 0s 4ms/step - loss: 92.1886 - accuracy: 0.0080 - val_loss: 76.1523 - val_accuracy: 0.0041\n",
            "Epoch 85/200\n",
            "108/108 [==============================] - 0s 4ms/step - loss: 93.3042 - accuracy: 0.0081 - val_loss: 75.1267 - val_accuracy: 0.0041\n",
            "Epoch 86/200\n",
            "108/108 [==============================] - 0s 4ms/step - loss: 92.5781 - accuracy: 0.0081 - val_loss: 88.7320 - val_accuracy: 0.0035\n",
            "Epoch 87/200\n",
            "108/108 [==============================] - 0s 4ms/step - loss: 90.4085 - accuracy: 0.0083 - val_loss: 75.6876 - val_accuracy: 0.0041\n",
            "Epoch 88/200\n",
            "108/108 [==============================] - 0s 4ms/step - loss: 91.1435 - accuracy: 0.0081 - val_loss: 74.1422 - val_accuracy: 0.0041\n",
            "Epoch 89/200\n",
            "108/108 [==============================] - 0s 4ms/step - loss: 91.4958 - accuracy: 0.0081 - val_loss: 75.7506 - val_accuracy: 0.0041\n",
            "Epoch 90/200\n",
            "108/108 [==============================] - 0s 4ms/step - loss: 90.5025 - accuracy: 0.0081 - val_loss: 82.8464 - val_accuracy: 0.0041\n",
            "Epoch 91/200\n",
            "108/108 [==============================] - 0s 4ms/step - loss: 91.5235 - accuracy: 0.0081 - val_loss: 83.6986 - val_accuracy: 0.0035\n",
            "Epoch 92/200\n",
            "108/108 [==============================] - 1s 5ms/step - loss: 90.3589 - accuracy: 0.0081 - val_loss: 75.1836 - val_accuracy: 0.0035\n",
            "Epoch 93/200\n",
            "108/108 [==============================] - 1s 6ms/step - loss: 89.1185 - accuracy: 0.0081 - val_loss: 75.2987 - val_accuracy: 0.0041\n",
            "Epoch 94/200\n",
            "108/108 [==============================] - 1s 7ms/step - loss: 91.2004 - accuracy: 0.0079 - val_loss: 77.4308 - val_accuracy: 0.0041\n",
            "Epoch 95/200\n",
            "108/108 [==============================] - 1s 6ms/step - loss: 89.2265 - accuracy: 0.0081 - val_loss: 78.1244 - val_accuracy: 0.0035\n",
            "Epoch 96/200\n",
            "108/108 [==============================] - 0s 4ms/step - loss: 89.8025 - accuracy: 0.0083 - val_loss: 75.5268 - val_accuracy: 0.0035\n",
            "Epoch 97/200\n",
            "108/108 [==============================] - 0s 4ms/step - loss: 90.2648 - accuracy: 0.0083 - val_loss: 74.5612 - val_accuracy: 0.0041\n",
            "Epoch 98/200\n",
            "108/108 [==============================] - 0s 4ms/step - loss: 89.9958 - accuracy: 0.0079 - val_loss: 77.8946 - val_accuracy: 0.0035\n",
            "Epoch 99/200\n",
            "108/108 [==============================] - 0s 4ms/step - loss: 91.4879 - accuracy: 0.0077 - val_loss: 81.8640 - val_accuracy: 0.0035\n",
            "Epoch 100/200\n",
            "108/108 [==============================] - 0s 4ms/step - loss: 89.4996 - accuracy: 0.0079 - val_loss: 77.5479 - val_accuracy: 0.0035\n",
            "Epoch 101/200\n",
            "108/108 [==============================] - 0s 4ms/step - loss: 91.0037 - accuracy: 0.0079 - val_loss: 75.1644 - val_accuracy: 0.0035\n",
            "Epoch 102/200\n",
            "108/108 [==============================] - 0s 4ms/step - loss: 90.0843 - accuracy: 0.0079 - val_loss: 74.8921 - val_accuracy: 0.0035\n",
            "Epoch 103/200\n",
            "108/108 [==============================] - 0s 4ms/step - loss: 90.4882 - accuracy: 0.0081 - val_loss: 73.5173 - val_accuracy: 0.0035\n",
            "Epoch 104/200\n",
            "108/108 [==============================] - 0s 4ms/step - loss: 93.1281 - accuracy: 0.0080 - val_loss: 81.3304 - val_accuracy: 0.0041\n",
            "Epoch 105/200\n",
            "108/108 [==============================] - 0s 4ms/step - loss: 92.4870 - accuracy: 0.0079 - val_loss: 76.6124 - val_accuracy: 0.0035\n",
            "Epoch 106/200\n",
            "108/108 [==============================] - 0s 4ms/step - loss: 90.2906 - accuracy: 0.0081 - val_loss: 77.5982 - val_accuracy: 0.0035\n",
            "Epoch 107/200\n",
            "108/108 [==============================] - 0s 4ms/step - loss: 91.2795 - accuracy: 0.0083 - val_loss: 85.4348 - val_accuracy: 0.0035\n",
            "Epoch 108/200\n",
            "108/108 [==============================] - 0s 4ms/step - loss: 94.0799 - accuracy: 0.0079 - val_loss: 74.6192 - val_accuracy: 0.0035\n",
            "Epoch 109/200\n",
            "108/108 [==============================] - 0s 4ms/step - loss: 88.8880 - accuracy: 0.0080 - val_loss: 74.7665 - val_accuracy: 0.0035\n",
            "Epoch 110/200\n",
            "108/108 [==============================] - 0s 4ms/step - loss: 89.7945 - accuracy: 0.0080 - val_loss: 76.3672 - val_accuracy: 0.0029\n",
            "Epoch 111/200\n",
            "108/108 [==============================] - 0s 4ms/step - loss: 89.6516 - accuracy: 0.0079 - val_loss: 77.5570 - val_accuracy: 0.0035\n",
            "Epoch 112/200\n",
            "108/108 [==============================] - 0s 4ms/step - loss: 90.2996 - accuracy: 0.0079 - val_loss: 77.4968 - val_accuracy: 0.0035\n",
            "Epoch 113/200\n",
            "108/108 [==============================] - 0s 4ms/step - loss: 91.4047 - accuracy: 0.0081 - val_loss: 75.7544 - val_accuracy: 0.0035\n",
            "Epoch 114/200\n",
            "108/108 [==============================] - 0s 4ms/step - loss: 90.2918 - accuracy: 0.0079 - val_loss: 75.8337 - val_accuracy: 0.0035\n",
            "Epoch 115/200\n",
            "108/108 [==============================] - 0s 4ms/step - loss: 90.2496 - accuracy: 0.0081 - val_loss: 74.9393 - val_accuracy: 0.0029\n",
            "Epoch 116/200\n",
            "108/108 [==============================] - 0s 4ms/step - loss: 89.6862 - accuracy: 0.0080 - val_loss: 78.5638 - val_accuracy: 0.0035\n",
            "Epoch 117/200\n",
            "108/108 [==============================] - 0s 4ms/step - loss: 88.7154 - accuracy: 0.0081 - val_loss: 76.9865 - val_accuracy: 0.0029\n",
            "Epoch 118/200\n",
            "108/108 [==============================] - 1s 6ms/step - loss: 90.1518 - accuracy: 0.0080 - val_loss: 74.2804 - val_accuracy: 0.0029\n",
            "Epoch 119/200\n",
            "108/108 [==============================] - 1s 6ms/step - loss: 91.2971 - accuracy: 0.0077 - val_loss: 76.6364 - val_accuracy: 0.0035\n",
            "Epoch 120/200\n",
            "108/108 [==============================] - 1s 6ms/step - loss: 90.1733 - accuracy: 0.0083 - val_loss: 75.4390 - val_accuracy: 0.0035\n",
            "Epoch 121/200\n",
            "108/108 [==============================] - 1s 7ms/step - loss: 89.5694 - accuracy: 0.0080 - val_loss: 74.6997 - val_accuracy: 0.0035\n",
            "Epoch 122/200\n",
            "108/108 [==============================] - 1s 5ms/step - loss: 91.4726 - accuracy: 0.0079 - val_loss: 79.5452 - val_accuracy: 0.0035\n",
            "Epoch 123/200\n",
            "108/108 [==============================] - 0s 4ms/step - loss: 91.5656 - accuracy: 0.0084 - val_loss: 72.7282 - val_accuracy: 0.0029\n",
            "Epoch 124/200\n",
            "108/108 [==============================] - 0s 4ms/step - loss: 91.1000 - accuracy: 0.0077 - val_loss: 75.9781 - val_accuracy: 0.0035\n",
            "Epoch 125/200\n",
            "108/108 [==============================] - 0s 4ms/step - loss: 91.4362 - accuracy: 0.0080 - val_loss: 76.2931 - val_accuracy: 0.0029\n",
            "Epoch 126/200\n",
            "108/108 [==============================] - 0s 4ms/step - loss: 90.8710 - accuracy: 0.0079 - val_loss: 78.6787 - val_accuracy: 0.0035\n",
            "Epoch 127/200\n",
            "108/108 [==============================] - 0s 4ms/step - loss: 90.3340 - accuracy: 0.0081 - val_loss: 74.1287 - val_accuracy: 0.0035\n",
            "Epoch 128/200\n",
            "108/108 [==============================] - 0s 4ms/step - loss: 89.4998 - accuracy: 0.0079 - val_loss: 76.0156 - val_accuracy: 0.0035\n",
            "Epoch 129/200\n",
            "108/108 [==============================] - 0s 4ms/step - loss: 88.8249 - accuracy: 0.0080 - val_loss: 77.4563 - val_accuracy: 0.0029\n",
            "Epoch 130/200\n",
            "108/108 [==============================] - 0s 4ms/step - loss: 89.9141 - accuracy: 0.0077 - val_loss: 77.7765 - val_accuracy: 0.0029\n",
            "Epoch 131/200\n",
            "108/108 [==============================] - 0s 4ms/step - loss: 89.4601 - accuracy: 0.0080 - val_loss: 78.0269 - val_accuracy: 0.0029\n",
            "Epoch 132/200\n",
            "108/108 [==============================] - 0s 4ms/step - loss: 88.4792 - accuracy: 0.0079 - val_loss: 75.9013 - val_accuracy: 0.0035\n",
            "Epoch 133/200\n",
            "108/108 [==============================] - 0s 4ms/step - loss: 89.7536 - accuracy: 0.0080 - val_loss: 79.1850 - val_accuracy: 0.0029\n",
            "Epoch 134/200\n",
            "108/108 [==============================] - 0s 4ms/step - loss: 88.8999 - accuracy: 0.0077 - val_loss: 78.1576 - val_accuracy: 0.0029\n",
            "Epoch 135/200\n",
            "108/108 [==============================] - 0s 4ms/step - loss: 89.0676 - accuracy: 0.0080 - val_loss: 76.7382 - val_accuracy: 0.0029\n",
            "Epoch 136/200\n",
            "108/108 [==============================] - 0s 4ms/step - loss: 88.6062 - accuracy: 0.0079 - val_loss: 77.3327 - val_accuracy: 0.0035\n",
            "Epoch 137/200\n",
            "108/108 [==============================] - 0s 4ms/step - loss: 89.4154 - accuracy: 0.0079 - val_loss: 77.1071 - val_accuracy: 0.0029\n",
            "Epoch 138/200\n",
            "108/108 [==============================] - 0s 4ms/step - loss: 89.2810 - accuracy: 0.0077 - val_loss: 78.4001 - val_accuracy: 0.0029\n",
            "Epoch 139/200\n",
            "108/108 [==============================] - 0s 4ms/step - loss: 89.4735 - accuracy: 0.0081 - val_loss: 76.5231 - val_accuracy: 0.0029\n",
            "Epoch 140/200\n",
            "108/108 [==============================] - 0s 4ms/step - loss: 89.6541 - accuracy: 0.0079 - val_loss: 78.3673 - val_accuracy: 0.0035\n",
            "Epoch 141/200\n",
            "108/108 [==============================] - 0s 4ms/step - loss: 88.8681 - accuracy: 0.0081 - val_loss: 76.2788 - val_accuracy: 0.0029\n",
            "Epoch 142/200\n",
            "108/108 [==============================] - 0s 4ms/step - loss: 89.5715 - accuracy: 0.0079 - val_loss: 79.4739 - val_accuracy: 0.0029\n",
            "Epoch 143/200\n",
            "108/108 [==============================] - 1s 5ms/step - loss: 89.7479 - accuracy: 0.0080 - val_loss: 79.3666 - val_accuracy: 0.0035\n",
            "Epoch 144/200\n",
            "108/108 [==============================] - 1s 7ms/step - loss: 91.4954 - accuracy: 0.0076 - val_loss: 75.6308 - val_accuracy: 0.0029\n",
            "Epoch 145/200\n",
            "108/108 [==============================] - 1s 7ms/step - loss: 88.9560 - accuracy: 0.0079 - val_loss: 75.5438 - val_accuracy: 0.0029\n",
            "Epoch 146/200\n",
            "108/108 [==============================] - 1s 6ms/step - loss: 89.1227 - accuracy: 0.0079 - val_loss: 76.4840 - val_accuracy: 0.0029\n",
            "Epoch 147/200\n",
            "108/108 [==============================] - 1s 5ms/step - loss: 89.1855 - accuracy: 0.0079 - val_loss: 77.0534 - val_accuracy: 0.0035\n",
            "Epoch 148/200\n",
            "108/108 [==============================] - 0s 4ms/step - loss: 91.4496 - accuracy: 0.0077 - val_loss: 75.0455 - val_accuracy: 0.0029\n",
            "Epoch 149/200\n",
            "108/108 [==============================] - 0s 4ms/step - loss: 89.0002 - accuracy: 0.0077 - val_loss: 78.9487 - val_accuracy: 0.0029\n",
            "Epoch 150/200\n",
            "108/108 [==============================] - 0s 4ms/step - loss: 88.4001 - accuracy: 0.0079 - val_loss: 75.8802 - val_accuracy: 0.0029\n",
            "Epoch 151/200\n",
            "108/108 [==============================] - 0s 4ms/step - loss: 89.1252 - accuracy: 0.0080 - val_loss: 81.7581 - val_accuracy: 0.0029\n",
            "Epoch 152/200\n",
            "108/108 [==============================] - 0s 4ms/step - loss: 88.6881 - accuracy: 0.0079 - val_loss: 82.8964 - val_accuracy: 0.0029\n",
            "Epoch 153/200\n",
            "108/108 [==============================] - 0s 4ms/step - loss: 89.5441 - accuracy: 0.0077 - val_loss: 78.9884 - val_accuracy: 0.0029\n",
            "Epoch 154/200\n",
            "108/108 [==============================] - 0s 4ms/step - loss: 89.1715 - accuracy: 0.0077 - val_loss: 77.3234 - val_accuracy: 0.0029\n",
            "Epoch 155/200\n",
            "108/108 [==============================] - 0s 4ms/step - loss: 89.0325 - accuracy: 0.0079 - val_loss: 76.3265 - val_accuracy: 0.0029\n",
            "Epoch 156/200\n",
            "108/108 [==============================] - 0s 4ms/step - loss: 89.2311 - accuracy: 0.0077 - val_loss: 73.9411 - val_accuracy: 0.0029\n",
            "Epoch 157/200\n",
            "108/108 [==============================] - 0s 4ms/step - loss: 89.0346 - accuracy: 0.0077 - val_loss: 75.9882 - val_accuracy: 0.0035\n",
            "Epoch 158/200\n",
            "108/108 [==============================] - 0s 4ms/step - loss: 88.1320 - accuracy: 0.0077 - val_loss: 77.8173 - val_accuracy: 0.0029\n",
            "Epoch 159/200\n",
            "108/108 [==============================] - 0s 4ms/step - loss: 88.7324 - accuracy: 0.0080 - val_loss: 76.8768 - val_accuracy: 0.0029\n",
            "Epoch 160/200\n",
            "108/108 [==============================] - 0s 4ms/step - loss: 88.6980 - accuracy: 0.0079 - val_loss: 74.3139 - val_accuracy: 0.0029\n",
            "Epoch 161/200\n",
            "108/108 [==============================] - 0s 4ms/step - loss: 89.4814 - accuracy: 0.0077 - val_loss: 75.9774 - val_accuracy: 0.0035\n",
            "Epoch 162/200\n",
            "108/108 [==============================] - 0s 4ms/step - loss: 89.1687 - accuracy: 0.0080 - val_loss: 83.9150 - val_accuracy: 0.0029\n",
            "Epoch 163/200\n",
            "108/108 [==============================] - 0s 4ms/step - loss: 90.0973 - accuracy: 0.0079 - val_loss: 76.7150 - val_accuracy: 0.0029\n",
            "Epoch 164/200\n",
            "108/108 [==============================] - 0s 4ms/step - loss: 89.8277 - accuracy: 0.0081 - val_loss: 74.8820 - val_accuracy: 0.0029\n",
            "Epoch 165/200\n",
            "108/108 [==============================] - 0s 4ms/step - loss: 89.6753 - accuracy: 0.0079 - val_loss: 76.3585 - val_accuracy: 0.0029\n",
            "Epoch 166/200\n",
            "108/108 [==============================] - 0s 4ms/step - loss: 89.8586 - accuracy: 0.0076 - val_loss: 78.2105 - val_accuracy: 0.0029\n",
            "Epoch 167/200\n",
            "108/108 [==============================] - 0s 4ms/step - loss: 89.7727 - accuracy: 0.0074 - val_loss: 75.1991 - val_accuracy: 0.0029\n",
            "Epoch 168/200\n",
            "108/108 [==============================] - 1s 5ms/step - loss: 90.7054 - accuracy: 0.0077 - val_loss: 76.7043 - val_accuracy: 0.0029\n",
            "Epoch 169/200\n",
            "108/108 [==============================] - 1s 6ms/step - loss: 90.1443 - accuracy: 0.0076 - val_loss: 77.0076 - val_accuracy: 0.0029\n",
            "Epoch 170/200\n",
            "108/108 [==============================] - 1s 7ms/step - loss: 88.1336 - accuracy: 0.0079 - val_loss: 78.2318 - val_accuracy: 0.0035\n",
            "Epoch 171/200\n",
            "108/108 [==============================] - 1s 6ms/step - loss: 88.8968 - accuracy: 0.0080 - val_loss: 85.3908 - val_accuracy: 0.0029\n",
            "Epoch 172/200\n",
            "108/108 [==============================] - 1s 6ms/step - loss: 89.6071 - accuracy: 0.0080 - val_loss: 76.8428 - val_accuracy: 0.0029\n",
            "Epoch 173/200\n",
            "108/108 [==============================] - 0s 4ms/step - loss: 87.8809 - accuracy: 0.0077 - val_loss: 79.5410 - val_accuracy: 0.0029\n",
            "Epoch 174/200\n",
            "108/108 [==============================] - 0s 4ms/step - loss: 88.6049 - accuracy: 0.0077 - val_loss: 83.8409 - val_accuracy: 0.0029\n",
            "Epoch 175/200\n",
            "108/108 [==============================] - 0s 4ms/step - loss: 88.1693 - accuracy: 0.0076 - val_loss: 78.3514 - val_accuracy: 0.0029\n",
            "Epoch 176/200\n",
            "108/108 [==============================] - 0s 4ms/step - loss: 87.9865 - accuracy: 0.0080 - val_loss: 82.0348 - val_accuracy: 0.0029\n",
            "Epoch 177/200\n",
            "108/108 [==============================] - 0s 4ms/step - loss: 88.4863 - accuracy: 0.0077 - val_loss: 81.7502 - val_accuracy: 0.0029\n",
            "Epoch 178/200\n",
            "108/108 [==============================] - 0s 4ms/step - loss: 88.1457 - accuracy: 0.0077 - val_loss: 75.7958 - val_accuracy: 0.0029\n",
            "Epoch 179/200\n",
            "108/108 [==============================] - 0s 4ms/step - loss: 89.5082 - accuracy: 0.0079 - val_loss: 78.6124 - val_accuracy: 0.0029\n",
            "Epoch 180/200\n",
            "108/108 [==============================] - 0s 4ms/step - loss: 89.5893 - accuracy: 0.0077 - val_loss: 76.8037 - val_accuracy: 0.0029\n",
            "Epoch 181/200\n",
            "108/108 [==============================] - 0s 4ms/step - loss: 88.2863 - accuracy: 0.0077 - val_loss: 79.1665 - val_accuracy: 0.0029\n",
            "Epoch 182/200\n",
            "108/108 [==============================] - 0s 4ms/step - loss: 88.5003 - accuracy: 0.0081 - val_loss: 76.9004 - val_accuracy: 0.0035\n",
            "Epoch 183/200\n",
            "108/108 [==============================] - 0s 4ms/step - loss: 88.6469 - accuracy: 0.0079 - val_loss: 81.2463 - val_accuracy: 0.0029\n",
            "Epoch 184/200\n",
            "108/108 [==============================] - 0s 4ms/step - loss: 87.5598 - accuracy: 0.0074 - val_loss: 75.0706 - val_accuracy: 0.0029\n",
            "Epoch 185/200\n",
            "108/108 [==============================] - 0s 4ms/step - loss: 88.6492 - accuracy: 0.0074 - val_loss: 76.1685 - val_accuracy: 0.0029\n",
            "Epoch 186/200\n",
            "108/108 [==============================] - 0s 4ms/step - loss: 87.7381 - accuracy: 0.0081 - val_loss: 75.8733 - val_accuracy: 0.0029\n",
            "Epoch 187/200\n",
            "108/108 [==============================] - 0s 4ms/step - loss: 88.2419 - accuracy: 0.0079 - val_loss: 80.7683 - val_accuracy: 0.0029\n",
            "Epoch 188/200\n",
            "108/108 [==============================] - 0s 4ms/step - loss: 88.2663 - accuracy: 0.0077 - val_loss: 76.3270 - val_accuracy: 0.0029\n",
            "Epoch 189/200\n",
            "108/108 [==============================] - 0s 4ms/step - loss: 89.0437 - accuracy: 0.0079 - val_loss: 87.5907 - val_accuracy: 0.0029\n",
            "Epoch 190/200\n",
            "108/108 [==============================] - 0s 4ms/step - loss: 89.0294 - accuracy: 0.0079 - val_loss: 75.4587 - val_accuracy: 0.0029\n",
            "Epoch 191/200\n",
            "108/108 [==============================] - 0s 4ms/step - loss: 87.2311 - accuracy: 0.0080 - val_loss: 76.5334 - val_accuracy: 0.0029\n",
            "Epoch 192/200\n",
            "108/108 [==============================] - 0s 4ms/step - loss: 87.9747 - accuracy: 0.0076 - val_loss: 74.5843 - val_accuracy: 0.0029\n",
            "Epoch 193/200\n",
            "108/108 [==============================] - 0s 4ms/step - loss: 86.9919 - accuracy: 0.0080 - val_loss: 76.9794 - val_accuracy: 0.0029\n",
            "Epoch 194/200\n",
            "108/108 [==============================] - 1s 7ms/step - loss: 87.3729 - accuracy: 0.0077 - val_loss: 78.2265 - val_accuracy: 0.0029\n",
            "Epoch 195/200\n",
            "108/108 [==============================] - 1s 6ms/step - loss: 89.1674 - accuracy: 0.0077 - val_loss: 77.9595 - val_accuracy: 0.0029\n",
            "Epoch 196/200\n",
            "108/108 [==============================] - 1s 6ms/step - loss: 87.0143 - accuracy: 0.0073 - val_loss: 76.1309 - val_accuracy: 0.0029\n",
            "Epoch 197/200\n",
            "108/108 [==============================] - 1s 7ms/step - loss: 86.7828 - accuracy: 0.0076 - val_loss: 75.6774 - val_accuracy: 0.0029\n",
            "Epoch 198/200\n",
            "108/108 [==============================] - 0s 4ms/step - loss: 88.6609 - accuracy: 0.0080 - val_loss: 76.8477 - val_accuracy: 0.0029\n",
            "Epoch 199/200\n",
            "108/108 [==============================] - 0s 4ms/step - loss: 88.0894 - accuracy: 0.0079 - val_loss: 75.1659 - val_accuracy: 0.0029\n",
            "Epoch 200/200\n",
            "108/108 [==============================] - 0s 4ms/step - loss: 87.2029 - accuracy: 0.0077 - val_loss: 76.6820 - val_accuracy: 0.0029\n",
            "269/269 [==============================] - 1s 2ms/step - loss: 82.7359 - accuracy: 0.0069\n",
            "Accuracy 0.6868451833724976\n"
          ]
        }
      ]
    },
    {
      "cell_type": "code",
      "source": [
        "import matplotlib.pyplot as plt\n",
        "acc = history.history['accuracy']\n",
        "val_acc = history.history['val_accuracy']\n",
        "loss = history.history['loss']\n",
        "val_loss = history.history['val_loss']\n",
        "\n",
        "epochs = range(len(acc))\n",
        "\n",
        "plt.plot(epochs, acc, 'bo', label='Dokladnosc trenowania')\n",
        "plt.plot(epochs, val_acc, 'b', label='Dokladnosc walidacji')\n",
        "plt.title('Dokladnosc trenowania i walidacji')\n",
        "plt.legend()\n",
        "\n",
        "plt.figure()\n",
        "\n",
        "plt.plot(epochs, loss, 'bo', label='Strata trenowania')\n",
        "plt.plot(epochs, val_loss, 'b', label='Strata walidacji')\n",
        "plt.title('Strata trenowania i walidacji')\n",
        "plt.legend()\n",
        "\n",
        "plt.show()"
      ],
      "metadata": {
        "colab": {
          "base_uri": "https://localhost:8080/",
          "height": 545
        },
        "id": "9L5VX6gzWo91",
        "outputId": "53a8f4d1-dae0-470a-8873-c285b20944a1"
      },
      "execution_count": 35,
      "outputs": [
        {
          "output_type": "display_data",
          "data": {
            "text/plain": [
              "<Figure size 432x288 with 1 Axes>"
            ],
            "image/png": "[encoded data removed]"
          },
          "metadata": {
            "needs_background": "light"
          }
        },
        {
          "output_type": "display_data",
          "data": {
            "text/plain": [
              "<Figure size 432x288 with 1 Axes>"
            ],
            "image/png": "[encoded data removed]"
          },
          "metadata": {
            "needs_background": "light"
          }
        }
      ]
    }
  ]
}